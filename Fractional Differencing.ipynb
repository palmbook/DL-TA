{
 "cells": [
  {
   "cell_type": "code",
   "execution_count": 1,
   "id": "reverse-governor",
   "metadata": {},
   "outputs": [],
   "source": [
    "import numpy as np\n",
    "import pandas as pd\n",
    "import matplotlib.pyplot as plt\n",
    "%matplotlib inline"
   ]
  },
  {
   "cell_type": "code",
   "execution_count": 2,
   "id": "wound-material",
   "metadata": {},
   "outputs": [],
   "source": [
    "df = pd.read_csv('data/MBTC_USD_H8_100621_processed.csv')"
   ]
  },
  {
   "cell_type": "code",
   "execution_count": 3,
   "id": "domestic-duncan",
   "metadata": {},
   "outputs": [],
   "source": [
    "df['time'] = pd.to_datetime(df['time'])"
   ]
  },
  {
   "cell_type": "code",
   "execution_count": 4,
   "id": "consolidated-johns",
   "metadata": {},
   "outputs": [],
   "source": [
    "df.set_index('time', inplace=True)"
   ]
  },
  {
   "cell_type": "code",
   "execution_count": 5,
   "id": "billion-qualification",
   "metadata": {},
   "outputs": [
    {
     "data": {
      "text/html": [
       "<div>\n",
       "<style scoped>\n",
       "    .dataframe tbody tr th:only-of-type {\n",
       "        vertical-align: middle;\n",
       "    }\n",
       "\n",
       "    .dataframe tbody tr th {\n",
       "        vertical-align: top;\n",
       "    }\n",
       "\n",
       "    .dataframe thead th {\n",
       "        text-align: right;\n",
       "    }\n",
       "</style>\n",
       "<table border=\"1\" class=\"dataframe\">\n",
       "  <thead>\n",
       "    <tr style=\"text-align: right;\">\n",
       "      <th></th>\n",
       "      <th>open</th>\n",
       "      <th>high</th>\n",
       "      <th>low</th>\n",
       "      <th>close</th>\n",
       "      <th>volume</th>\n",
       "      <th>weekday</th>\n",
       "      <th>hour</th>\n",
       "      <th>weekofyear</th>\n",
       "      <th>quarter</th>\n",
       "      <th>weekofquarter</th>\n",
       "      <th>mid</th>\n",
       "      <th>xau_ratio</th>\n",
       "      <th>eur</th>\n",
       "      <th>eur_ratio</th>\n",
       "    </tr>\n",
       "    <tr>\n",
       "      <th>time</th>\n",
       "      <th></th>\n",
       "      <th></th>\n",
       "      <th></th>\n",
       "      <th></th>\n",
       "      <th></th>\n",
       "      <th></th>\n",
       "      <th></th>\n",
       "      <th></th>\n",
       "      <th></th>\n",
       "      <th></th>\n",
       "      <th></th>\n",
       "      <th></th>\n",
       "      <th></th>\n",
       "      <th></th>\n",
       "    </tr>\n",
       "  </thead>\n",
       "  <tbody>\n",
       "    <tr>\n",
       "      <th>2016-05-17 05:00:00+00:00</th>\n",
       "      <td>4.541</td>\n",
       "      <td>4.548</td>\n",
       "      <td>4.526</td>\n",
       "      <td>4.537</td>\n",
       "      <td>11720</td>\n",
       "      <td>1</td>\n",
       "      <td>5</td>\n",
       "      <td>20</td>\n",
       "      <td>2</td>\n",
       "      <td>7</td>\n",
       "      <td>4.541</td>\n",
       "      <td>1.024449</td>\n",
       "      <td>1.13154</td>\n",
       "      <td>1.063290</td>\n",
       "    </tr>\n",
       "    <tr>\n",
       "      <th>2016-05-17 13:00:00+00:00</th>\n",
       "      <td>4.537</td>\n",
       "      <td>4.554</td>\n",
       "      <td>4.534</td>\n",
       "      <td>4.546</td>\n",
       "      <td>11743</td>\n",
       "      <td>1</td>\n",
       "      <td>13</td>\n",
       "      <td>20</td>\n",
       "      <td>2</td>\n",
       "      <td>7</td>\n",
       "      <td>4.551</td>\n",
       "      <td>1.030494</td>\n",
       "      <td>1.13110</td>\n",
       "      <td>1.065762</td>\n",
       "    </tr>\n",
       "    <tr>\n",
       "      <th>2016-05-17 21:00:00+00:00</th>\n",
       "      <td>4.546</td>\n",
       "      <td>4.552</td>\n",
       "      <td>4.545</td>\n",
       "      <td>4.552</td>\n",
       "      <td>10047</td>\n",
       "      <td>1</td>\n",
       "      <td>21</td>\n",
       "      <td>20</td>\n",
       "      <td>2</td>\n",
       "      <td>7</td>\n",
       "      <td>4.549</td>\n",
       "      <td>1.026908</td>\n",
       "      <td>1.13132</td>\n",
       "      <td>1.066954</td>\n",
       "    </tr>\n",
       "    <tr>\n",
       "      <th>2016-05-18 05:00:00+00:00</th>\n",
       "      <td>4.552</td>\n",
       "      <td>4.557</td>\n",
       "      <td>4.551</td>\n",
       "      <td>4.555</td>\n",
       "      <td>6734</td>\n",
       "      <td>2</td>\n",
       "      <td>5</td>\n",
       "      <td>20</td>\n",
       "      <td>2</td>\n",
       "      <td>7</td>\n",
       "      <td>4.552</td>\n",
       "      <td>1.029603</td>\n",
       "      <td>1.12858</td>\n",
       "      <td>1.070225</td>\n",
       "    </tr>\n",
       "    <tr>\n",
       "      <th>2016-05-18 13:00:00+00:00</th>\n",
       "      <td>4.555</td>\n",
       "      <td>4.562</td>\n",
       "      <td>4.550</td>\n",
       "      <td>4.560</td>\n",
       "      <td>11225</td>\n",
       "      <td>2</td>\n",
       "      <td>13</td>\n",
       "      <td>20</td>\n",
       "      <td>2</td>\n",
       "      <td>7</td>\n",
       "      <td>4.558</td>\n",
       "      <td>1.033544</td>\n",
       "      <td>1.12744</td>\n",
       "      <td>1.072465</td>\n",
       "    </tr>\n",
       "    <tr>\n",
       "      <th>...</th>\n",
       "      <td>...</td>\n",
       "      <td>...</td>\n",
       "      <td>...</td>\n",
       "      <td>...</td>\n",
       "      <td>...</td>\n",
       "      <td>...</td>\n",
       "      <td>...</td>\n",
       "      <td>...</td>\n",
       "      <td>...</td>\n",
       "      <td>...</td>\n",
       "      <td>...</td>\n",
       "      <td>...</td>\n",
       "      <td>...</td>\n",
       "      <td>...</td>\n",
       "    </tr>\n",
       "    <tr>\n",
       "      <th>2021-06-09 05:00:00+00:00</th>\n",
       "      <td>329.933</td>\n",
       "      <td>350.735</td>\n",
       "      <td>329.315</td>\n",
       "      <td>349.172</td>\n",
       "      <td>404972</td>\n",
       "      <td>2</td>\n",
       "      <td>5</td>\n",
       "      <td>23</td>\n",
       "      <td>2</td>\n",
       "      <td>10</td>\n",
       "      <td>340.822</td>\n",
       "      <td>0.636082</td>\n",
       "      <td>1.21796</td>\n",
       "      <td>0.795586</td>\n",
       "    </tr>\n",
       "    <tr>\n",
       "      <th>2021-06-09 13:00:00+00:00</th>\n",
       "      <td>349.167</td>\n",
       "      <td>369.792</td>\n",
       "      <td>346.150</td>\n",
       "      <td>364.150</td>\n",
       "      <td>410266</td>\n",
       "      <td>2</td>\n",
       "      <td>13</td>\n",
       "      <td>23</td>\n",
       "      <td>2</td>\n",
       "      <td>10</td>\n",
       "      <td>365.188</td>\n",
       "      <td>0.664941</td>\n",
       "      <td>1.21946</td>\n",
       "      <td>0.827888</td>\n",
       "    </tr>\n",
       "    <tr>\n",
       "      <th>2021-06-09 21:00:00+00:00</th>\n",
       "      <td>364.001</td>\n",
       "      <td>376.957</td>\n",
       "      <td>362.312</td>\n",
       "      <td>368.130</td>\n",
       "      <td>300474</td>\n",
       "      <td>2</td>\n",
       "      <td>21</td>\n",
       "      <td>23</td>\n",
       "      <td>2</td>\n",
       "      <td>10</td>\n",
       "      <td>369.825</td>\n",
       "      <td>0.675540</td>\n",
       "      <td>1.21794</td>\n",
       "      <td>0.837148</td>\n",
       "    </tr>\n",
       "    <tr>\n",
       "      <th>2021-06-10 05:00:00+00:00</th>\n",
       "      <td>368.109</td>\n",
       "      <td>384.550</td>\n",
       "      <td>362.606</td>\n",
       "      <td>377.956</td>\n",
       "      <td>407501</td>\n",
       "      <td>3</td>\n",
       "      <td>5</td>\n",
       "      <td>23</td>\n",
       "      <td>2</td>\n",
       "      <td>10</td>\n",
       "      <td>364.205</td>\n",
       "      <td>0.696124</td>\n",
       "      <td>1.21642</td>\n",
       "      <td>0.859648</td>\n",
       "    </tr>\n",
       "    <tr>\n",
       "      <th>2021-06-10 13:00:00+00:00</th>\n",
       "      <td>377.951</td>\n",
       "      <td>382.258</td>\n",
       "      <td>367.852</td>\n",
       "      <td>369.582</td>\n",
       "      <td>124072</td>\n",
       "      <td>3</td>\n",
       "      <td>13</td>\n",
       "      <td>23</td>\n",
       "      <td>2</td>\n",
       "      <td>10</td>\n",
       "      <td>369.541</td>\n",
       "      <td>0.680140</td>\n",
       "      <td>1.21862</td>\n",
       "      <td>0.838249</td>\n",
       "    </tr>\n",
       "  </tbody>\n",
       "</table>\n",
       "<p>4511 rows × 14 columns</p>\n",
       "</div>"
      ],
      "text/plain": [
       "                              open     high      low    close  volume  \\\n",
       "time                                                                    \n",
       "2016-05-17 05:00:00+00:00    4.541    4.548    4.526    4.537   11720   \n",
       "2016-05-17 13:00:00+00:00    4.537    4.554    4.534    4.546   11743   \n",
       "2016-05-17 21:00:00+00:00    4.546    4.552    4.545    4.552   10047   \n",
       "2016-05-18 05:00:00+00:00    4.552    4.557    4.551    4.555    6734   \n",
       "2016-05-18 13:00:00+00:00    4.555    4.562    4.550    4.560   11225   \n",
       "...                            ...      ...      ...      ...     ...   \n",
       "2021-06-09 05:00:00+00:00  329.933  350.735  329.315  349.172  404972   \n",
       "2021-06-09 13:00:00+00:00  349.167  369.792  346.150  364.150  410266   \n",
       "2021-06-09 21:00:00+00:00  364.001  376.957  362.312  368.130  300474   \n",
       "2021-06-10 05:00:00+00:00  368.109  384.550  362.606  377.956  407501   \n",
       "2021-06-10 13:00:00+00:00  377.951  382.258  367.852  369.582  124072   \n",
       "\n",
       "                           weekday  hour  weekofyear  quarter  weekofquarter  \\\n",
       "time                                                                           \n",
       "2016-05-17 05:00:00+00:00        1     5          20        2              7   \n",
       "2016-05-17 13:00:00+00:00        1    13          20        2              7   \n",
       "2016-05-17 21:00:00+00:00        1    21          20        2              7   \n",
       "2016-05-18 05:00:00+00:00        2     5          20        2              7   \n",
       "2016-05-18 13:00:00+00:00        2    13          20        2              7   \n",
       "...                            ...   ...         ...      ...            ...   \n",
       "2021-06-09 05:00:00+00:00        2     5          23        2             10   \n",
       "2021-06-09 13:00:00+00:00        2    13          23        2             10   \n",
       "2021-06-09 21:00:00+00:00        2    21          23        2             10   \n",
       "2021-06-10 05:00:00+00:00        3     5          23        2             10   \n",
       "2021-06-10 13:00:00+00:00        3    13          23        2             10   \n",
       "\n",
       "                               mid  xau_ratio      eur  eur_ratio  \n",
       "time                                                               \n",
       "2016-05-17 05:00:00+00:00    4.541   1.024449  1.13154   1.063290  \n",
       "2016-05-17 13:00:00+00:00    4.551   1.030494  1.13110   1.065762  \n",
       "2016-05-17 21:00:00+00:00    4.549   1.026908  1.13132   1.066954  \n",
       "2016-05-18 05:00:00+00:00    4.552   1.029603  1.12858   1.070225  \n",
       "2016-05-18 13:00:00+00:00    4.558   1.033544  1.12744   1.072465  \n",
       "...                            ...        ...      ...        ...  \n",
       "2021-06-09 05:00:00+00:00  340.822   0.636082  1.21796   0.795586  \n",
       "2021-06-09 13:00:00+00:00  365.188   0.664941  1.21946   0.827888  \n",
       "2021-06-09 21:00:00+00:00  369.825   0.675540  1.21794   0.837148  \n",
       "2021-06-10 05:00:00+00:00  364.205   0.696124  1.21642   0.859648  \n",
       "2021-06-10 13:00:00+00:00  369.541   0.680140  1.21862   0.838249  \n",
       "\n",
       "[4511 rows x 14 columns]"
      ]
     },
     "execution_count": 5,
     "metadata": {},
     "output_type": "execute_result"
    }
   ],
   "source": [
    "df"
   ]
  },
  {
   "cell_type": "code",
   "execution_count": 23,
   "id": "rational-roommate",
   "metadata": {},
   "outputs": [
    {
     "data": {
      "text/plain": [
       "time\n",
       "2016-05-17 05:00:00+00:00      4.541\n",
       "2016-05-17 13:00:00+00:00      4.546\n",
       "2016-05-17 21:00:00+00:00      4.552\n",
       "2016-05-18 05:00:00+00:00      4.555\n",
       "2016-05-18 13:00:00+00:00      4.560\n",
       "                              ...   \n",
       "2021-06-09 05:00:00+00:00    349.172\n",
       "2021-06-09 13:00:00+00:00    364.150\n",
       "2021-06-09 21:00:00+00:00    368.130\n",
       "2021-06-10 05:00:00+00:00    377.956\n",
       "2021-06-10 13:00:00+00:00    377.951\n",
       "Length: 4511, dtype: float64"
      ]
     },
     "execution_count": 23,
     "metadata": {},
     "output_type": "execute_result"
    }
   ],
   "source": [
    "df[['open', 'close']].max(axis=1)"
   ]
  },
  {
   "cell_type": "code",
   "execution_count": 6,
   "id": "missing-covering",
   "metadata": {},
   "outputs": [],
   "source": [
    "def diffVector(d, window=20):\n",
    "    w = 1\n",
    "    vector = list()\n",
    "    vector.append(w)\n",
    "    \n",
    "    for k in range(1, window):\n",
    "        w = -w *( (d - k + 1) / k)\n",
    "        vector.append(w)\n",
    "    \n",
    "    return np.array(vector)"
   ]
  },
  {
   "cell_type": "code",
   "execution_count": 18,
   "id": "continent-shower",
   "metadata": {},
   "outputs": [],
   "source": [
    "dvector = diffVector(0.8)"
   ]
  },
  {
   "cell_type": "code",
   "execution_count": 8,
   "id": "congressional-journey",
   "metadata": {},
   "outputs": [
    {
     "data": {
      "text/plain": [
       "array([ 1.00000000e+00, -8.00000000e-01, -8.00000000e-02, -3.20000000e-02,\n",
       "       -1.76000000e-02, -1.12640000e-02, -7.88480000e-03, -5.85728000e-03,\n",
       "       -4.53939200e-03, -3.63151360e-03, -2.97784115e-03, -2.49055805e-03,\n",
       "       -2.11697435e-03, -1.82385482e-03, -1.58935920e-03, -1.39863610e-03,\n",
       "       -1.24128954e-03, -1.10985888e-03, -9.98872992e-04, -9.04242919e-04])"
      ]
     },
     "execution_count": 8,
     "metadata": {},
     "output_type": "execute_result"
    }
   ],
   "source": [
    "dvector"
   ]
  },
  {
   "cell_type": "code",
   "execution_count": 9,
   "id": "derived-arrest",
   "metadata": {},
   "outputs": [],
   "source": [
    "def dot(a):\n",
    "    return np.dot(a, dvector)"
   ]
  },
  {
   "cell_type": "code",
   "execution_count": 20,
   "id": "billion-kitchen",
   "metadata": {},
   "outputs": [
    {
     "data": {
      "text/plain": [
       "<AxesSubplot:xlabel='time'>"
      ]
     },
     "execution_count": 20,
     "metadata": {},
     "output_type": "execute_result"
    },
    {
     "data": {
      "image/png": "[encoded data removed]",
      "text/plain": [
       "<Figure size 432x288 with 1 Axes>"
      ]
     },
     "metadata": {
      "needs_background": "light"
     },
     "output_type": "display_data"
    }
   ],
   "source": [
    "np.log(df.close).rolling(20).apply(dot).plot()"
   ]
  },
  {
   "cell_type": "code",
   "execution_count": 11,
   "id": "imposed-bridges",
   "metadata": {},
   "outputs": [
    {
     "data": {
      "text/plain": [
       "<AxesSubplot:xlabel='time'>"
      ]
     },
     "execution_count": 11,
     "metadata": {},
     "output_type": "execute_result"
    },
    {
     "data": {
      "image/png": "[encoded data removed]",
      "text/plain": [
       "<Figure size 432x288 with 1 Axes>"
      ]
     },
     "metadata": {
      "needs_background": "light"
     },
     "output_type": "display_data"
    }
   ],
   "source": [
    "np.log(df.close).diff().plot()"
   ]
  },
  {
   "cell_type": "code",
   "execution_count": 12,
   "id": "fancy-liverpool",
   "metadata": {},
   "outputs": [],
   "source": [
    "from statsmodels.tsa.stattools import adfuller"
   ]
  },
  {
   "cell_type": "code",
   "execution_count": 19,
   "id": "painful-newman",
   "metadata": {},
   "outputs": [
    {
     "data": {
      "text/plain": [
       "(-3.2274097380339537,\n",
       " 0.018451916429691767,\n",
       " 32,\n",
       " 4459,\n",
       " {'1%': -3.431817384731168,\n",
       "  '5%': -2.8621884080632585,\n",
       "  '10%': -2.567115151370683},\n",
       " -19709.780625050444)"
      ]
     },
     "execution_count": 19,
     "metadata": {},
     "output_type": "execute_result"
    }
   ],
   "source": [
    "adfuller(np.log(df.close).rolling(20).apply(dot).dropna().values)"
   ]
  },
  {
   "cell_type": "code",
   "execution_count": 14,
   "id": "absolute-behavior",
   "metadata": {},
   "outputs": [
    {
     "data": {
      "text/plain": [
       "(-29.628029649108,\n",
       " 0.0,\n",
       " 4,\n",
       " 4505,\n",
       " {'1%': -3.4318023928959036,\n",
       "  '5%': -2.8621817850871287,\n",
       "  '10%': -2.5671116256447086},\n",
       " -19858.343071605705)"
      ]
     },
     "execution_count": 14,
     "metadata": {},
     "output_type": "execute_result"
    }
   ],
   "source": [
    "adfuller(np.log(df.close).diff().dropna().values)"
   ]
  },
  {
   "cell_type": "code",
   "execution_count": null,
   "id": "sublime-illustration",
   "metadata": {},
   "outputs": [],
   "source": []
  }
 ],
 "metadata": {
  "kernelspec": {
   "display_name": "Python 3",
   "language": "python",
   "name": "python3"
  },
  "language_info": {
   "codemirror_mode": {
    "name": "ipython",
    "version": 3
   },
   "file_extension": ".py",
   "mimetype": "text/x-python",
   "name": "python",
   "nbconvert_exporter": "python",
   "pygments_lexer": "ipython3",
   "version": "3.8.5"
  }
 },
 "nbformat": 4,
 "nbformat_minor": 5
}
